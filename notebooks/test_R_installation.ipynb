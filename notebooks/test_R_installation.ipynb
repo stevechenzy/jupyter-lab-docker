{
 "cells": [
  {
   "cell_type": "markdown",
   "id": "typical-hartford",
   "metadata": {},
   "source": [
    "# Notebook to check if the R and core data science packages installation\n",
    "- R version 4.0.3 (+)\n",
    "- htmltools\n",
    "- pdftools\n",
    "- tidyverse\n",
    "- R keyshort-cut extension.\n",
    "\n",
    "Run through the cells, and check the result."
   ]
  },
  {
   "cell_type": "code",
   "execution_count": null,
   "id": "toxic-attack",
   "metadata": {},
   "outputs": [],
   "source": [
    "# check R version, expect 4.0.3 (+) \n",
    "sessionInfo()"
   ]
  },
  {
   "cell_type": "code",
   "execution_count": null,
   "id": "funky-repository",
   "metadata": {},
   "outputs": [],
   "source": [
    "# package pdftools\n",
    "library(\"pdftools\")"
   ]
  },
  {
   "cell_type": "code",
   "execution_count": null,
   "id": "objective-wheat",
   "metadata": {},
   "outputs": [],
   "source": [
    "# package htmltools\n",
    "library(htmltools)"
   ]
  },
  {
   "cell_type": "code",
   "execution_count": null,
   "id": "united-horror",
   "metadata": {},
   "outputs": [],
   "source": [
    "# package tidyverse - core data analyse library\n",
    "library(tidyverse)"
   ]
  },
  {
   "cell_type": "code",
   "execution_count": null,
   "id": "stainless-scoop",
   "metadata": {},
   "outputs": [],
   "source": [
    "# check the evironment variables\n",
    "Sys.getenv()"
   ]
  },
  {
   "cell_type": "markdown",
   "id": "independent-algeria",
   "metadata": {},
   "source": [
    "## keyboard short cut from RStudio\n",
    "\n",
    "- Alt+- \"<-\"\n",
    "- Ctrl+Shift+M \"%>%\"\n"
   ]
  }
 ],
 "metadata": {
  "kernelspec": {
   "display_name": "R4.0",
   "language": "R",
   "name": "ir"
  },
  "language_info": {
   "codemirror_mode": "r",
   "file_extension": ".r",
   "mimetype": "text/x-r-source",
   "name": "R",
   "pygments_lexer": "r",
   "version": "4.0.3"
  }
 },
 "nbformat": 4,
 "nbformat_minor": 5
}